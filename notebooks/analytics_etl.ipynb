{
 "cells": [
  {
   "cell_type": "code",
   "execution_count": null,
   "id": "9a626bd5",
   "metadata": {},
   "outputs": [],
   "source": [
    "from pyspark.sql import SparkSession\n",
    "import os\n",
    "\n",
    "access_key = os.getenv('aws_access_key')\n",
    "secret_key = os.getenv('aws_secret_key')\n",
    "\n",
    "# Create a Spark session\n",
    "spark = (SparkSession.builder\n",
    "    .appName(\"Analytics ETL\")\n",
    "    .config('spark.jars.packages', 'io.openlineage:openlineage-spark:0.3.+,org.apache.hadoop:hadoop-aws:3.2.0')\n",
    "    .config('spark.extraListeners', 'io.openlineage.spark.agent.OpenLineageSparkListener')\n",
    "    .config('spark.openlineage.host', 'http://marquez-api:5000')\n",
    "    .config('spark.openlineage.namespace', 'spark_integration')\n",
    "    .config(\"spark.hadoop.fs.s3a.endpoint\", \"http://minio:9000\")\n",
    "    .config(\"spark.hadoop.fs.s3a.access.key\", access_key)\n",
    "    .config(\"spark.hadoop.fs.s3a.secret.key\", secret_key)\n",
    "    .config(\"spark.hadoop.fs.s3a.impl\", \"org.apache.hadoop.fs.s3a.S3AFileSystem\")\n",
    "    .config(\"spark.hadoop.fs.s3a.path.style.access\", \"true\")\n",
    "    .getOrCreate())"
   ]
  },
  {
   "cell_type": "code",
   "execution_count": null,
   "id": "eac2fe98",
   "metadata": {},
   "outputs": [],
   "source": [
    "final_data = spark.read.option(\"inferSchema\", \"true\").option(\"header\", \"true\").csv(\"s3a://transformed/transformed_data.csv\")\n",
    "analytics_data = final_data.where(final_data['\"Score\"'] >= 90)"
   ]
  },
  {
   "cell_type": "code",
   "execution_count": null,
   "id": "4b2a6bc1",
   "metadata": {},
   "outputs": [],
   "source": [
    "analytics_data.write.format('csv').option('header','true').save('s3a://analytics/analytics_data.csv',mode='overwrite')"
   ]
  }
 ],
 "metadata": {
  "kernelspec": {
   "display_name": "Python 3 (ipykernel)",
   "language": "python",
   "name": "python3"
  },
  "language_info": {
   "codemirror_mode": {
    "name": "ipython",
    "version": 3
   },
   "file_extension": ".py",
   "mimetype": "text/x-python",
   "name": "python",
   "nbconvert_exporter": "python",
   "pygments_lexer": "ipython3",
   "version": "3.9.7"
  }
 },
 "nbformat": 4,
 "nbformat_minor": 5
}
