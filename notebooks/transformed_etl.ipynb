{
 "cells": [
  {
   "cell_type": "code",
   "execution_count": null,
   "id": "4758ab9a",
   "metadata": {},
   "outputs": [],
   "source": [
    "from pyspark.sql import SparkSession\n",
    "import os\n",
    "\n",
    "access_key = os.getenv('aws_access_key')\n",
    "secret_key = os.getenv('aws_secret_key')\n",
    "\n",
    "# Create a Spark session\n",
    "spark = (SparkSession.builder\n",
    "    .appName(\"Transformed ETL\")\n",
    "    .config('spark.jars.packages', 'io.openlineage:openlineage-spark:0.3.+,org.apache.hadoop:hadoop-aws:3.2.0')\n",
    "    .config('spark.extraListeners', 'io.openlineage.spark.agent.OpenLineageSparkListener')\n",
    "    .config('spark.openlineage.host', 'http://marquez-api:5000')\n",
    "    .config('spark.openlineage.namespace', 'spark_integration')\n",
    "    .config(\"spark.hadoop.fs.s3a.endpoint\", \"http://minio:9000\")\n",
    "    .config(\"spark.hadoop.fs.s3a.access.key\", access_key)\n",
    "    .config(\"spark.hadoop.fs.s3a.secret.key\", secret_key)\n",
    "    .config(\"spark.hadoop.fs.s3a.impl\", \"org.apache.hadoop.fs.s3a.S3AFileSystem\")\n",
    "    .config(\"spark.hadoop.fs.s3a.path.style.access\", \"true\")\n",
    "    .getOrCreate())"
   ]
  },
  {
   "cell_type": "code",
   "execution_count": null,
   "id": "ee086401",
   "metadata": {},
   "outputs": [],
   "source": [
    "raw = spark.read.option(\"inferSchema\", \"true\")\\\n",
    "                .option(\"header\", \"true\")\\\n",
    "                .csv(\"s3a://raw/raw_data.csv\")\n",
    "extra = spark.read.option(\"inferSchema\", \"true\")\\\n",
    "            .option(\"header\", \"true\")\\\n",
    "            .csv(\"s3a://raw/extra_data.csv\")\n"
   ]
  },
  {
   "cell_type": "code",
   "execution_count": null,
   "id": "0b04fc09",
   "metadata": {},
   "outputs": [],
   "source": [
    "output = raw.join(extra, raw.Year ==  extra.Year,\"inner\").drop(extra.Year)"
   ]
  },
  {
   "cell_type": "code",
   "execution_count": null,
   "id": "f47e5b25",
   "metadata": {},
   "outputs": [],
   "source": [
    "output.write.format('csv')\\\n",
    "            .option('header','true')\\\n",
    "            .save('s3a://transformed/transformed_data.csv',mode='overwrite')\n"
   ]
  },
  {
   "cell_type": "code",
   "execution_count": null,
   "id": "26b631f2",
   "metadata": {},
   "outputs": [],
   "source": []
  }
 ],
 "metadata": {
  "kernelspec": {
   "display_name": "Python 3 (ipykernel)",
   "language": "python",
   "name": "python3"
  },
  "language_info": {
   "codemirror_mode": {
    "name": "ipython",
    "version": 3
   },
   "file_extension": ".py",
   "mimetype": "text/x-python",
   "name": "python",
   "nbconvert_exporter": "python",
   "pygments_lexer": "ipython3",
   "version": "3.9.7"
  }
 },
 "nbformat": 4,
 "nbformat_minor": 5
}
